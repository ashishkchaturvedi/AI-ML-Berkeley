{
 "cells": [
  {
   "cell_type": "code",
   "execution_count": 1,
   "metadata": {
    "id": "2zVfzQSwpmj6"
   },
   "outputs": [],
   "source": [
    "# ==============================================================================\n",
    "# # California Car Accident Severity Prediction\n",
    "#\n",
    "# **Goal:** To build a machine learning model that can predict the severity of a car accident in California based on various factors like vehicle type, environmental conditions, and driver demographics.\n",
    "#\n",
    "# **Research Question:** Can the severity of a car accident (e.g., property damage, injury, or fatality) be accurately predicted based on the vehicle type, involved parties' demographics, and environmental conditions at the time of the incident?\n",
    "#\n",
    "# This notebook will guide you through loading the data, cleaning and preparing it for modeling, building a predictive model, and evaluating its performance.\n",
    "# ==============================================================================\n",
    "\n",
    "# ==============================================================================\n",
    "# ## Step 1: Setup and Data Loading\n",
    "#\n",
    "# First, we need to import the necessary Python libraries for data manipulation, visualization, and machine learning. Then, we will load our dataset.\n",
    "#\n",
    "# **Instructions:**\n",
    "#\n",
    "# 1.  Run the first code cell to import the libraries.\n",
    "# 2.  Load your `combined_accident_data.csv` file. Ensure the file path is correct for your environment.\n",
    "# 3.  Run the second code cell to load the data into a pandas DataFrame.\n",
    "# ==============================================================================\n",
    "\n",
    "import pandas as pd\n",
    "import numpy as np\n",
    "import matplotlib.pyplot as plt\n",
    "import seaborn as sns\n",
    "from sklearn.model_selection import train_test_split\n",
    "from sklearn.ensemble import RandomForestClassifier\n",
    "from sklearn.metrics import classification_report, confusion_matrix, accuracy_score\n",
    "from sklearn.preprocessing import LabelEncoder"
   ]
  },
  {
   "cell_type": "code",
   "execution_count": 2,
   "metadata": {
    "colab": {
     "base_uri": "https://localhost:8080/"
    },
    "id": "HJJpc80tp-wC",
    "outputId": "5036fdd2-4569-48f6-901d-e0a104f42cdc"
   },
   "outputs": [
    {
     "name": "stdout",
     "output_type": "stream",
     "text": [
      "Dataset loaded successfully!\n",
      "The dataset has 37654 rows and 80 columns.\n"
     ]
    }
   ],
   "source": [
    "# Load the dataset\n",
    "try:\n",
    "    df = pd.read_csv('data/combined_accident_data.csv')\n",
    "    print(\"Dataset loaded successfully!\")\n",
    "    print(f\"The dataset has {df.shape[0]} rows and {df.shape[1]} columns.\")\n",
    "except FileNotFoundError:\n",
    "    print(\"Error: 'combined_accident_data.csv' not found.\")\n",
    "    print(\"Please make sure the file is in the correct directory or provide the full path.\")\n",
    "except Exception as e:\n",
    "    print(f\"An error occurred: {e}\")"
   ]
  },
  {
   "cell_type": "code",
   "execution_count": null,
   "metadata": {
    "colab": {
     "base_uri": "https://localhost:8080/"
    },
    "id": "9yuoZ2Fkpne_",
    "outputId": "69edf783-e718-4bfc-c953-f2e4aa74bec3"
   },
   "outputs": [
    {
     "name": "stdout",
     "output_type": "stream",
     "text": [
      "\n",
      "Original Data Info:\n",
      "<class 'pandas.core.frame.DataFrame'>\n",
      "RangeIndex: 37654 entries, 0 to 37653\n",
      "Data columns (total 80 columns):\n",
      " #   Column        Non-Null Count  Dtype  \n",
      "---  ------        --------------  -----  \n",
      " 0   STATE         37654 non-null  int64  \n",
      " 1   STATENAME     37654 non-null  object \n",
      " 2   ST_CASE       37654 non-null  int64  \n",
      " 3   PEDS          37654 non-null  int64  \n",
      " 4   PERNOTMVIT    37654 non-null  int64  \n",
      " 5   VE_TOTAL      37654 non-null  int64  \n",
      " 6   VE_FORMS      37654 non-null  int64  \n",
      " 7   PVH_INVL      37654 non-null  int64  \n",
      " 8   PERSONS       37654 non-null  int64  \n",
      " 9   PERMVIT       37654 non-null  int64  \n",
      " 10  COUNTY        37654 non-null  int64  \n",
      " 11  COUNTYNAME    37654 non-null  object \n",
      " 12  CITY          37654 non-null  int64  \n",
      " 13  CITYNAME      37654 non-null  object \n",
      " 14  MONTH         37654 non-null  int64  \n",
      " 15  MONTHNAME     37654 non-null  object \n",
      " 16  DAY           37654 non-null  int64  \n",
      " 17  DAYNAME       37654 non-null  int64  \n",
      " 18  DAY_WEEK      37654 non-null  int64  \n",
      " 19  DAY_WEEKNAME  37654 non-null  object \n",
      " 20  YEAR          37654 non-null  int64  \n",
      " 21  HOUR          37654 non-null  int64  \n",
      " 22  HOURNAME      37654 non-null  object \n",
      " 23  MINUTE        37654 non-null  int64  \n",
      " 24  MINUTENAME    37654 non-null  object \n",
      " 25  TWAY_ID       37653 non-null  object \n",
      " 26  TWAY_ID2      9728 non-null   object \n",
      " 27  ROUTE         37654 non-null  int64  \n",
      " 28  ROUTENAME     37654 non-null  object \n",
      " 29  RUR_URB       37654 non-null  int64  \n",
      " 30  RUR_URBNAME   37654 non-null  object \n",
      " 31  FUNC_SYS      37654 non-null  int64  \n",
      " 32  FUNC_SYSNAME  37654 non-null  object \n",
      " 33  RD_OWNER      37654 non-null  int64  \n",
      " 34  RD_OWNERNAME  37654 non-null  object \n",
      " 35  NHS           37654 non-null  int64  \n",
      " 36  NHSNAME       37654 non-null  object \n",
      " 37  SP_JUR        37654 non-null  int64  \n",
      " 38  SP_JURNAME    37654 non-null  object \n",
      " 39  MILEPT        37654 non-null  int64  \n",
      " 40  MILEPTNAME    32143 non-null  object \n",
      " 41  LATITUDE      37654 non-null  float64\n",
      " 42  LATITUDENAME  37654 non-null  float64\n",
      " 43  LONGITUD      37654 non-null  float64\n",
      " 44  LONGITUDNAME  37654 non-null  float64\n",
      " 45  HARM_EV       37654 non-null  int64  \n",
      " 46  HARM_EVNAME   37654 non-null  object \n",
      " 47  MAN_COLL      37654 non-null  int64  \n",
      " 48  MAN_COLLNAME  37654 non-null  object \n",
      " 49  RELJCT1       37654 non-null  int64  \n",
      " 50  RELJCT1NAME   37654 non-null  object \n",
      " 51  RELJCT2       37654 non-null  int64  \n",
      " 52  RELJCT2NAME   37654 non-null  object \n",
      " 53  TYP_INT       37654 non-null  int64  \n",
      " 54  TYP_INTNAME   37654 non-null  object \n",
      " 55  REL_ROAD      37654 non-null  int64  \n",
      " 56  REL_ROADNAME  37654 non-null  object \n",
      " 57  WRK_ZONE      37654 non-null  int64  \n",
      " 58  WRK_ZONENAME  817 non-null    object \n",
      " 59  LGT_COND      37654 non-null  int64  \n",
      " 60  LGT_CONDNAME  37654 non-null  object \n",
      " 61  WEATHER       37654 non-null  int64  \n",
      " 62  WEATHERNAME   37654 non-null  object \n",
      " 63  SCH_BUS       37654 non-null  int64  \n",
      " 64  SCH_BUSNAME   37654 non-null  object \n",
      " 65  RAIL          37654 non-null  object \n",
      " 66  RAILNAME      37654 non-null  object \n",
      " 67  NOT_HOUR      37654 non-null  int64  \n",
      " 68  NOT_HOURNAME  37654 non-null  object \n",
      " 69  NOT_MIN       37654 non-null  int64  \n",
      " 70  NOT_MINNAME   37654 non-null  object \n",
      " 71  ARR_HOUR      37654 non-null  int64  \n",
      " 72  ARR_HOURNAME  37654 non-null  object \n",
      " 73  ARR_MIN       37654 non-null  int64  \n",
      " 74  ARR_MINNAME   37654 non-null  object \n",
      " 75  HOSP_HR       37654 non-null  int64  \n",
      " 76  HOSP_HRNAME   37654 non-null  object \n",
      " 77  HOSP_MN       37654 non-null  int64  \n",
      " 78  HOSP_MNNAME   37654 non-null  object \n",
      " 79  FATALS        37654 non-null  int64  \n",
      "dtypes: float64(4), int64(42), object(34)\n",
      "memory usage: 23.0+ MB\n"
     ]
    }
   ],
   "source": [
    "# ==============================================================================\n",
    "# ## Step 2: Data Exploration and Preprocessing\n",
    "#\n",
    "# Now, we will explore the data and prepare it for modeling. This involves:\n",
    "#\n",
    "# 1.  **Filtering for California:** As per the research goal, we will only use data for accidents that occurred in California (State code 6).\n",
    "# 2.  **Selecting Relevant Columns:** We will select a subset of columns relevant to our research question to simplify the model.\n",
    "# 3.  **Handling Missing Values:** We will check for and handle any missing data.\n",
    "# 4.  **Preparing the Target Variable:** We will define our target variable, 'severity', based on the `FATALS` column.\n",
    "# ==============================================================================\n",
    "\n",
    "# Display basic information about the dataframe\n",
    "print(\"\\nOriginal Data Info:\")\n",
    "df.info()"
   ]
  },
  {
   "cell_type": "code",
   "execution_count": 4,
   "metadata": {
    "colab": {
     "base_uri": "https://localhost:8080/"
    },
    "id": "o2kWOl00qyTQ",
    "outputId": "41a4add9-b893-4427-d724-efd8d8fd65a2"
   },
   "outputs": [
    {
     "name": "stdout",
     "output_type": "stream",
     "text": [
      "\n",
      "Filtered for California. The California dataset has 3727 rows.\n"
     ]
    }
   ],
   "source": [
    "# Filter for accidents in California (State Code 6)\n",
    "# Note: Ensure the column name 'STATE' is correct for your dataset\n",
    "if 'STATE' in df.columns:\n",
    "    df_ca = df[df['STATE'] == 6].copy()\n",
    "    print(f\"\\nFiltered for California. The California dataset has {df_ca.shape[0]} rows.\")\n",
    "else:\n",
    "    print(\"\\nWarning: 'STATE' column not found. Using the entire dataset.\")\n",
    "    df_ca = df.copy()"
   ]
  },
  {
   "cell_type": "code",
   "execution_count": 5,
   "metadata": {
    "id": "MWQTyxI2q8i3"
   },
   "outputs": [],
   "source": [
    "# Select a subset of features for our initial model\n",
    "# We choose features related to environment, vehicle, and driver\n",
    "features_to_keep = [\n",
    "    'FATALS',  # Our target variable\n",
    "    'WEATHER',\n",
    "    'LGT_COND',\n",
    "    'BODY_TYP',\n",
    "    'MAKE',\n",
    "    'AGE',\n",
    "    'SEX',\n",
    "    'HOUR',\n",
    "    'DAY_WEEK'\n",
    "]"
   ]
  },
  {
   "cell_type": "code",
   "execution_count": 6,
   "metadata": {
    "colab": {
     "base_uri": "https://localhost:8080/"
    },
    "id": "ojAGyoSxrCCX",
    "outputId": "da363eb0-96eb-4dd5-be3f-363c4e5f15f8"
   },
   "outputs": [
    {
     "name": "stdout",
     "output_type": "stream",
     "text": [
      "\n",
      "Using the following available features: ['FATALS', 'WEATHER', 'LGT_COND', 'HOUR', 'DAY_WEEK']\n"
     ]
    }
   ],
   "source": [
    "# Check which of these features are actually in the dataframe\n",
    "available_features = [feature for feature in features_to_keep if feature in df_ca.columns]\n",
    "print(f\"\\nUsing the following available features: {available_features}\")\n",
    "\n",
    "df_model = df_ca[available_features].copy()"
   ]
  },
  {
   "cell_type": "code",
   "execution_count": 7,
   "metadata": {
    "colab": {
     "base_uri": "https://localhost:8080/"
    },
    "id": "BYlcGqRsrKzv",
    "outputId": "7a7c2565-66a8-4b8b-de04-d530722283a5"
   },
   "outputs": [
    {
     "name": "stdout",
     "output_type": "stream",
     "text": [
      "\n",
      "Distribution of FATALS:\n",
      "FATALS\n",
      "1    3456\n",
      "2     224\n",
      "3      35\n",
      "4       8\n",
      "5       4\n",
      "Name: count, dtype: int64\n"
     ]
    }
   ],
   "source": [
    "# --- Preparing the Target Variable 'FATALS' for Regression ---\n",
    "# The 'FATALS' column directly represents the number of fatalities.\n",
    "# We will use this as our continuous target variable for regression.\n",
    "\n",
    "# First, let's see the distribution of the FATALS column\n",
    "print(\"\\nDistribution of FATALS:\")\n",
    "print(df_model['FATALS'].value_counts())\n",
    "\n",
    "# We will use the 'FATALS' column as our target variable y\n",
    "# No binary conversion is needed for regression.\n",
    "# We will keep the 'FATALS' column in df_model for now until we define X and y."
   ]
  },
  {
   "cell_type": "code",
   "execution_count": 8,
   "metadata": {
    "colab": {
     "base_uri": "https://localhost:8080/"
    },
    "id": "jR-7_xDv15Od",
    "outputId": "8b953740-56e1-484c-b554-5941a609e574"
   },
   "outputs": [
    {
     "name": "stdout",
     "output_type": "stream",
     "text": [
      "\n",
      "Missing values before handling:\n",
      "FATALS      0\n",
      "WEATHER     0\n",
      "LGT_COND    0\n",
      "HOUR        0\n",
      "DAY_WEEK    0\n",
      "dtype: int64\n",
      "\n",
      "Shape of the data after dropping rows with missing values: (3727, 5)\n"
     ]
    }
   ],
   "source": [
    "# --- Handling Missing Values ---\n",
    "print(\"\\nMissing values before handling:\")\n",
    "print(df_model.isnull().sum())\n",
    "\n",
    "# For simplicity, we will drop rows with any missing values\n",
    "df_model.dropna(inplace=True)\n",
    "print(f\"\\nShape of the data after dropping rows with missing values: {df_model.shape}\")"
   ]
  },
  {
   "cell_type": "code",
   "execution_count": null,
   "metadata": {
    "colab": {
     "base_uri": "https://localhost:8080/"
    },
    "id": "PHVubjfN19jX",
    "outputId": "118f2420-bbb0-4252-8cae-c6c214136a26"
   },
   "outputs": [
    {
     "name": "stdout",
     "output_type": "stream",
     "text": [
      "\n",
      "Categorical columns to be one-hot encoded: []\n",
      "\n",
      "Shape of the data after one-hot encoding: (3727, 5)\n",
      "Sample of encoded data:\n",
      "      FATALS  WEATHER  LGT_COND  HOUR  DAY_WEEK\n",
      "2686       1       10         2     2         4\n",
      "2687       1       10         1    99         1\n",
      "2688       1        1         2     1         2\n",
      "2689       1        1         2    19         5\n",
      "2690       1        1         2    22         7\n"
     ]
    }
   ],
   "source": [
    "# ==============================================================================\n",
    "# ## Step 3: Feature Engineering (Encoding)\n",
    "#\n",
    "# Our model can only work with numbers. We need to convert our categorical features (like weather, light conditions, etc.) into a numerical format. We will use one-hot encoding for this.\n",
    "# ==============================================================================\n",
    "\n",
    "# Ensure df_model is the cleaned California data\n",
    "\n",
    "# Identify categorical columns to be encoded\n",
    "# Exclude the target variable 'FATALS' from encoding\n",
    "categorical_cols = df_model.select_dtypes(include=['object', 'category']).columns.tolist()\n",
    "\n",
    "print(f\"\\nCategorical columns to be one-hot encoded: {categorical_cols}\")\n",
    "\n",
    "# Apply one-hot encoding\n",
    "# Drop the original categorical columns after encoding\n",
    "df_encoded = pd.get_dummies(df_model, columns=categorical_cols, drop_first=True)\n",
    "\n",
    "print(f\"\\nShape of the data after one-hot encoding: {df_encoded.shape}\")\n",
    "print(\"Sample of encoded data:\")\n",
    "print(df_encoded.head())"
   ]
  },
  {
   "cell_type": "code",
   "execution_count": 10,
   "metadata": {
    "colab": {
     "base_uri": "https://localhost:8080/"
    },
    "id": "CucFOayj2GCk",
    "outputId": "ce8c16d9-6d70-4f4a-9f6e-07e511f7bf8c"
   },
   "outputs": [
    {
     "name": "stdout",
     "output_type": "stream",
     "text": [
      "\n",
      "Data split into training and testing sets:\n",
      "X_train shape: (2981, 4)\n",
      "X_test shape: (746, 4)\n",
      "\n",
      "Training the Random Forest Regressor model...\n",
      "Model training complete!\n"
     ]
    }
   ],
   "source": [
    "# ==============================================================================\n",
    "# ## Step 4: Model Building (Regression)\n",
    "#\n",
    "# We are now ready to build our machine learning model. We will:\n",
    "#\n",
    "# 1.  Split our data into features (X) and the target variable (y).\n",
    "# 2.  Split the data into training and testing sets.\n",
    "# 3.  Train a Random Forest Regressor model on the training data.\n",
    "# ==============================================================================\n",
    "\n",
    "from sklearn.ensemble import RandomForestRegressor\n",
    "from sklearn.metrics import mean_absolute_error, mean_squared_error, r2_score\n",
    "\n",
    "\n",
    "# Define features (X) and target (y)\n",
    "# X will be all columns in df_encoded except 'FATALS'\n",
    "X = df_encoded.drop('FATALS', axis=1)\n",
    "y = df_encoded['FATALS'] # Use FATALS as the target variable for regression\n",
    "\n",
    "# Split data into training and testing sets (80% training, 20% testing)\n",
    "# Stratification is not typically used for regression, so we remove it.\n",
    "X_train, X_test, y_train, y_test = train_test_split(X, y, test_size=0.2, random_state=42)\n",
    "\n",
    "print(\"\\nData split into training and testing sets:\")\n",
    "print(f\"X_train shape: {X_train.shape}\")\n",
    "print(f\"X_test shape: {X_test.shape}\")\n",
    "\n",
    "# Initialize and train the Random Forest Regressor\n",
    "print(\"\\nTraining the Random Forest Regressor model...\")\n",
    "model = RandomForestRegressor(n_estimators=100, random_state=42, n_jobs=-1)\n",
    "model.fit(X_train, y_train)\n",
    "print(\"Model training complete!\")"
   ]
  },
  {
   "cell_type": "code",
   "execution_count": 11,
   "metadata": {
    "colab": {
     "base_uri": "https://localhost:8080/",
     "height": 1000
    },
    "id": "3Zd-iWJ22Jtc",
    "outputId": "9daa5deb-e429-4aad-85ce-3321fdd8352e"
   },
   "outputs": [
    {
     "name": "stdout",
     "output_type": "stream",
     "text": [
      "\n",
      "--- Model Evaluation (Regression) ---\n",
      "Mean Absolute Error (MAE): 0.1758\n",
      "Mean Squared Error (MSE): 0.1712\n",
      "Root Mean Squared Error (RMSE): 0.4138\n",
      "R-squared (R2): -0.1932\n"
     ]
    },
    {
     "data": {
      "image/png": "[encoded data removed]",
      "text/plain": [
       "<Figure size 1000x600 with 1 Axes>"
      ]
     },
     "metadata": {},
     "output_type": "display_data"
    },
    {
     "data": {
      "image/png": "[encoded data removed]",
      "text/plain": [
       "<Figure size 1000x600 with 1 Axes>"
      ]
     },
     "metadata": {},
     "output_type": "display_data"
    }
   ],
   "source": [
    "# ==============================================================================\n",
    "# ## Step 5: Model Evaluation (Regression)\n",
    "#\n",
    "# Let's see how well our regression model performs on the test data.\n",
    "# ==============================================================================\n",
    "\n",
    "# Make predictions on the test set\n",
    "y_pred = model.predict(X_test)\n",
    "\n",
    "# Evaluate the model's performance using regression metrics\n",
    "print(\"\\n--- Model Evaluation (Regression) ---\")\n",
    "\n",
    "mae = mean_absolute_error(y_test, y_pred)\n",
    "mse = mean_squared_error(y_test, y_pred)\n",
    "rmse = np.sqrt(mse)\n",
    "r2 = r2_score(y_test, y_pred)\n",
    "\n",
    "print(f\"Mean Absolute Error (MAE): {mae:.4f}\")\n",
    "print(f\"Mean Squared Error (MSE): {mse:.4f}\")\n",
    "print(f\"Root Mean Squared Error (RMSE): {rmse:.4f}\")\n",
    "print(f\"R-squared (R2): {r2:.4f}\")\n",
    "\n",
    "# For regression, a confusion matrix is not applicable.\n",
    "# We can visualize the predictions vs actual values or the distribution of errors.\n",
    "\n",
    "# Example: Scatter plot of Actual vs Predicted values\n",
    "plt.figure(figsize=(10, 6))\n",
    "plt.scatter(y_test, y_pred, alpha=0.5)\n",
    "plt.xlabel(\"Actual Number of Fatalities\")\n",
    "plt.ylabel(\"Predicted Number of Fatalities\")\n",
    "plt.title(\"Actual vs Predicted Number of Fatalities\")\n",
    "plt.grid(True)\n",
    "plt.show()\n",
    "\n",
    "# Example: Distribution of Prediction Errors\n",
    "errors = y_test - y_pred\n",
    "plt.figure(figsize=(10, 6))\n",
    "sns.histplot(errors, kde=True)\n",
    "plt.xlabel(\"Prediction Error (Actual - Predicted)\")\n",
    "plt.ylabel(\"Frequency\")\n",
    "plt.title(\"Distribution of Prediction Errors\")\n",
    "plt.grid(True)\n",
    "plt.show()"
   ]
  },
  {
   "cell_type": "code",
   "execution_count": 14,
   "metadata": {
    "colab": {
     "base_uri": "https://localhost:8080/",
     "height": 894
    },
    "id": "Ez0NgBkR2PXJ",
    "outputId": "6b09be7c-5b9b-4dbc-fa79-4ca74caa8dcc"
   },
   "outputs": [
    {
     "name": "stderr",
     "output_type": "stream",
     "text": [
      "/var/folders/wg/0yvtxm4n0_z_kg6hrcxdpw8h0000gn/T/ipykernel_19650/3403355960.py:17: FutureWarning: \n",
      "\n",
      "Passing `palette` without assigning `hue` is deprecated and will be removed in v0.14.0. Assign the `y` variable to `hue` and set `legend=False` for the same effect.\n",
      "\n",
      "  sns.barplot(x='importance', y='feature', data=feature_importance_df.head(20), palette='viridis')\n"
     ]
    },
    {
     "data": {
      "image/png": "[encoded data removed]",
      "text/plain": [
       "<Figure size 1200x800 with 1 Axes>"
      ]
     },
     "metadata": {},
     "output_type": "display_data"
    }
   ],
   "source": [
    "# ==============================================================================\n",
    "# ## Step 6: Interpretation and Next Steps\n",
    "#\n",
    "# A key part of our project is to understand which factors are most influential. We can extract and visualize the feature importances from our Random Forest model.\n",
    "# ==============================================================================\n",
    "\n",
    "# Get feature importances from the model\n",
    "importances = model.feature_importances_\n",
    "feature_names = X.columns\n",
    "\n",
    "# Create a DataFrame for visualization\n",
    "feature_importance_df = pd.DataFrame({'feature': feature_names, 'importance': importances})\n",
    "feature_importance_df = feature_importance_df.sort_values(by='importance', ascending=False)\n",
    "\n",
    "# Plot the top 20 most important features\n",
    "plt.figure(figsize=(12, 8))\n",
    "sns.barplot(x='importance', y='feature', data=feature_importance_df.head(20), palette='viridis')\n",
    "plt.title('Top 20 Most Important Features in Predicting Accident Fatalities')\n",
    "plt.xlabel('Importance')\n",
    "plt.ylabel('Feature')\n",
    "plt.tight_layout()\n",
    "plt.show()"
   ]
  },
  {
   "cell_type": "code",
   "execution_count": 13,
   "metadata": {
    "colab": {
     "base_uri": "https://localhost:8080/"
    },
    "id": "206b2442",
    "outputId": "ab06e9d2-7db7-4ac8-d88a-852c3b8f7c1d"
   },
   "outputs": [
    {
     "name": "stdout",
     "output_type": "stream",
     "text": [
      "\n",
      "Distribution of FATALS in California data:\n",
      "FATALS\n",
      "1    3456\n",
      "2     224\n",
      "3      35\n",
      "4       8\n",
      "5       4\n",
      "Name: count, dtype: int64\n",
      "\n",
      "Shape of California data after cleaning FATALS column: (3727, 80)\n"
     ]
    }
   ],
   "source": [
    "# Check the distribution of the FATALS column in the California data\n",
    "print(\"\\nDistribution of FATALS in California data:\")\n",
    "print(df_ca['FATALS'].value_counts())\n",
    "\n",
    "# Filter out rows where FATALS might represent a missing or unknown value (if any)\n",
    "# Based on the data description or value counts, 99 might indicate unknown.\n",
    "# Adjust this filtering based on the actual value counts if needed.\n",
    "df_ca_cleaned = df_ca[df_ca['FATALS'] != 99].copy()\n",
    "\n",
    "print(f\"\\nShape of California data after cleaning FATALS column: {df_ca_cleaned.shape}\")\n",
    "\n",
    "# Update df_model to use this cleaned data before selecting features\n",
    "# This assumes that the next cell selects features from df_ca_cleaned\n",
    "df_model = df_ca_cleaned.copy()"
   ]
  }
 ],
 "metadata": {
  "colab": {
   "provenance": []
  },
  "kernelspec": {
   "display_name": "Python 3",
   "name": "python3"
  },
  "language_info": {
   "codemirror_mode": {
    "name": "ipython",
    "version": 3
   },
   "file_extension": ".py",
   "mimetype": "text/x-python",
   "name": "python",
   "nbconvert_exporter": "python",
   "pygments_lexer": "ipython3",
   "version": "3.13.0"
  }
 },
 "nbformat": 4,
 "nbformat_minor": 0
}
