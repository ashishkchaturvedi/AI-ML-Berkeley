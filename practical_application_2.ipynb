{
 "cells": [
  {
   "cell_type": "markdown",
   "metadata": {
    "id": "_rY1G1hoGm2-"
   },
   "source": [
    "# What drives the price of a car?\n",
    "\n",
    "![](images/kurt.jpeg)"
   ]
  },
  {
   "cell_type": "markdown",
   "metadata": {
    "id": "6uZDYxSSGm2_"
   },
   "source": [
    "**OVERVIEW**\n",
    "\n",
    "In this application, you will explore a dataset from Kaggle. The original dataset contained information on 3 million used cars. The provided dataset contains information on 426K cars to ensure speed of processing.  Your goal is to understand what factors make a car more or less expensive.  As a result of your analysis, you should provide clear recommendations to your client -- a used car dealership -- as to what consumers value in a used car."
   ]
  },
  {
   "cell_type": "markdown",
   "metadata": {
    "id": "Fxc_du42Gm2_"
   },
   "source": [
    "### CRISP-DM Framework\n",
    "\n",
    "<center>\n",
    "    <img src = images/crisp.png width = 50%/>\n",
    "</center>\n",
    "\n",
    "\n",
    "To frame the task, throughout our practical applications, we will refer back to a standard process in industry for data projects called CRISP-DM.  This process provides a framework for working through a data problem.  Your first step in this application will be to read through a brief overview of CRISP-DM [here](https://mo-pcco.s3.us-east-1.amazonaws.com/BH-PCMLAI/module_11/readings_starter.zip).  After reading the overview, answer the questions below."
   ]
  },
  {
   "cell_type": "markdown",
   "metadata": {
    "id": "rF6dtVa1Gm2_"
   },
   "source": [
    "### Business Understanding\n",
    "\n",
    "From a business perspective, we are tasked with identifying key drivers for used car prices.  In the CRISP-DM overview, we are asked to convert this business framing to a data problem definition.  Using a few sentences, reframe the task as a data task with the appropriate technical vocabulary."
   ]
  },
  {
   "cell_type": "markdown",
   "metadata": {
    "id": "JoiXXGTOI7qS"
   },
   "source": [
    "Problem Statement:\n",
    "\n",
    "Develop a predictive model for used car prices using a vehicle dataset which contains various attributes of the cars. This involves identifying and quantifying the relationships between price and corresponding car attributes such as **mileage, year, make, model, features**. The model needs to evaluate accurately the prices for unseen cars and needs to identify the most dominant features.\n"
   ]
  },
  {
   "cell_type": "markdown",
   "metadata": {
    "id": "ZK4UA9j0Gm3A"
   },
   "source": [
    "### Data Understanding\n",
    "\n",
    "After considering the business understanding, we want to get familiar with our data.  Write down some steps that you would take to get to know the dataset and identify any quality issues within.  Take time to get to know the dataset and explore what information it contains and how this could be used to inform your business understanding."
   ]
  },
  {
   "cell_type": "code",
   "execution_count": null,
   "metadata": {
    "colab": {
     "base_uri": "https://localhost:8080/"
    },
    "id": "mVAMhhpyGm3A",
    "outputId": "f755c0f5-d8ac-4938-fb58-cdfe0c98ee08"
   },
   "outputs": [
    {
     "name": "stdout",
     "output_type": "stream",
     "text": [
      "<class 'pandas.core.frame.DataFrame'>\n",
      "RangeIndex: 426880 entries, 0 to 426879\n",
      "Data columns (total 18 columns):\n",
      " #   Column        Non-Null Count   Dtype  \n",
      "---  ------        --------------   -----  \n",
      " 0   id            426880 non-null  int64  \n",
      " 1   region        426880 non-null  object \n",
      " 2   price         426880 non-null  int64  \n",
      " 3   year          425675 non-null  float64\n",
      " 4   manufacturer  409234 non-null  object \n",
      " 5   model         421603 non-null  object \n",
      " 6   condition     252776 non-null  object \n",
      " 7   cylinders     249202 non-null  object \n",
      " 8   fuel          423867 non-null  object \n",
      " 9   odometer      422480 non-null  float64\n",
      " 10  title_status  418638 non-null  object \n",
      " 11  transmission  424324 non-null  object \n",
      " 12  VIN           265838 non-null  object \n",
      " 13  drive         296313 non-null  object \n",
      " 14  size          120519 non-null  object \n",
      " 15  type          334022 non-null  object \n",
      " 16  paint_color   296677 non-null  object \n",
      " 17  state         426880 non-null  object \n",
      "dtypes: float64(2), int64(2), object(14)\n",
      "memory usage: 58.6+ MB\n",
      "None\n",
      "           id                  region  price  year manufacturer model  \\\n",
      "0  7222695916                prescott   6000   NaN          NaN   NaN   \n",
      "1  7218891961            fayetteville  11900   NaN          NaN   NaN   \n",
      "2  7221797935            florida keys  21000   NaN          NaN   NaN   \n",
      "3  7222270760  worcester / central MA   1500   NaN          NaN   NaN   \n",
      "4  7210384030              greensboro   4900   NaN          NaN   NaN   \n",
      "\n",
      "  condition cylinders fuel  odometer title_status transmission  VIN drive  \\\n",
      "0       NaN       NaN  NaN       NaN          NaN          NaN  NaN   NaN   \n",
      "1       NaN       NaN  NaN       NaN          NaN          NaN  NaN   NaN   \n",
      "2       NaN       NaN  NaN       NaN          NaN          NaN  NaN   NaN   \n",
      "3       NaN       NaN  NaN       NaN          NaN          NaN  NaN   NaN   \n",
      "4       NaN       NaN  NaN       NaN          NaN          NaN  NaN   NaN   \n",
      "\n",
      "  size type paint_color state  \n",
      "0  NaN  NaN         NaN    az  \n",
      "1  NaN  NaN         NaN    ar  \n",
      "2  NaN  NaN         NaN    fl  \n",
      "3  NaN  NaN         NaN    ma  \n",
      "4  NaN  NaN         NaN    nc  \n",
      "                 id         price           year      odometer\n",
      "count  4.268800e+05  4.268800e+05  425675.000000  4.224800e+05\n",
      "mean   7.311487e+09  7.519903e+04    2011.235191  9.804333e+04\n",
      "std    4.473170e+06  1.218228e+07       9.452120  2.138815e+05\n",
      "min    7.207408e+09  0.000000e+00    1900.000000  0.000000e+00\n",
      "25%    7.308143e+09  5.900000e+03    2008.000000  3.770400e+04\n",
      "50%    7.312621e+09  1.395000e+04    2013.000000  8.554800e+04\n",
      "75%    7.315254e+09  2.648575e+04    2017.000000  1.335425e+05\n",
      "max    7.317101e+09  3.736929e+09    2022.000000  1.000000e+07\n",
      "id                   0\n",
      "region               0\n",
      "price                0\n",
      "year              1205\n",
      "manufacturer     17646\n",
      "model             5277\n",
      "condition       174104\n",
      "cylinders       177678\n",
      "fuel              3013\n",
      "odometer          4400\n",
      "title_status      8242\n",
      "transmission      2556\n",
      "VIN             161042\n",
      "drive           130567\n",
      "size            306361\n",
      "type             92858\n",
      "paint_color     130203\n",
      "state                0\n",
      "dtype: int64\n"
     ]
    }
   ],
   "source": [
    "import pandas as pd\n",
    "import matplotlib.pyplot as plt\n",
    "import seaborn as sns\n",
    "\n",
    "# Load the dataset (replace 'your_dataset.csv' with the actual file name)\n",
    "df = pd.read_csv('data/vehicles.csv')\n",
    "\n",
    "# 1. Display basic information\n",
    "print(df.info())  \n",
    "\n",
    "# 2. View the first few rows\n",
    "print(df.head())\n",
    "\n",
    "# 3. Summary statistics\n",
    "print(df.describe())\n",
    "\n",
    "# 4. Check for missing values\n",
    "print(df.isnull().sum())"
   ]
  },
  {
   "cell_type": "code",
   "execution_count": null,
   "metadata": {
    "colab": {
     "base_uri": "https://localhost:8080/"
    },
    "id": "fbSWH1lWOPs8",
    "outputId": "3d1f7ee9-9ed4-4621-b777-42e3cb26ac52"
   },
   "outputs": [
    {
     "name": "stdout",
     "output_type": "stream",
     "text": [
      "Numerical columns:\n"
     ]
    },
    {
     "data": {
      "text/plain": [
       "Index(['id', 'price', 'year', 'odometer'], dtype='object')"
      ]
     },
     "execution_count": 3,
     "metadata": {},
     "output_type": "execute_result"
    }
   ],
   "source": [
    "# Check for numerical columns\n",
    "numerical_cols = df.select_dtypes(include=['number']).columns\n",
    "print(\"Numerical columns:\")\n",
    "numerical_cols"
   ]
  },
  {
   "cell_type": "code",
   "execution_count": null,
   "metadata": {
    "colab": {
     "base_uri": "https://localhost:8080/",
     "height": 1000
    },
    "id": "NKeW15wIGm3A",
    "outputId": "edb40f6a-75e6-4365-fdea-ccf745487530"
   },
   "outputs": [
    {
     "data": {
      "image/png": "[encoded data removed]",
      "text/plain": [
       "<Figure size 800x600 with 1 Axes>"
      ]
     },
     "metadata": {},
     "output_type": "display_data"
    },
    {
     "data": {
      "image/png": "[encoded data removed]",
      "text/plain": [
       "<Figure size 800x600 with 1 Axes>"
      ]
     },
     "metadata": {},
     "output_type": "display_data"
    },
    {
     "data": {
      "image/png": "[encoded data removed]",
      "text/plain": [
       "<Figure size 800x600 with 1 Axes>"
      ]
     },
     "metadata": {},
     "output_type": "display_data"
    }
   ],
   "source": [
    "# Boxplots to visualize potential outliers\n",
    "numerical_cols = ['price', 'year', 'odometer']\n",
    "\n",
    "for col in numerical_cols:\n",
    "  plt.figure(figsize=(8, 6))\n",
    "  sns.boxplot(x=df[col])\n",
    "  plt.title(f'Boxplot of {col}')\n",
    "  plt.show()"
   ]
  },
  {
   "cell_type": "code",
   "execution_count": null,
   "metadata": {
    "colab": {
     "base_uri": "https://localhost:8080/"
    },
    "id": "8BBBHanfGm3A",
    "outputId": "63d6aeed-baaf-4766-d454-8692ffba9c8c"
   },
   "outputs": [
    {
     "name": "stdout",
     "output_type": "stream",
     "text": [
      "\n",
      "Analyzing inconsistencies in 'region':\n",
      "region\n",
      "columbus                   3608\n",
      "jacksonville               3562\n",
      "spokane / coeur d'alene    2988\n",
      "eugene                     2985\n",
      "fresno / madera            2983\n",
      "                           ... \n",
      "meridian                     28\n",
      "southwest MS                 14\n",
      "kansas city                  11\n",
      "fort smith, AR                9\n",
      "west virginia (old)           8\n",
      "Name: count, Length: 404, dtype: int64\n",
      "['prescott' 'fayetteville' 'florida keys' 'worcester / central MA'\n",
      " 'greensboro']\n",
      "\n",
      "Analyzing inconsistencies in 'manufacturer':\n",
      "manufacturer\n",
      "ford               70985\n",
      "chevrolet          55064\n",
      "toyota             34202\n",
      "honda              21269\n",
      "nissan             19067\n",
      "jeep               19014\n",
      "ram                18342\n",
      "NaN                17646\n",
      "gmc                16785\n",
      "bmw                14699\n",
      "dodge              13707\n",
      "mercedes-benz      11817\n",
      "hyundai            10338\n",
      "subaru              9495\n",
      "volkswagen          9345\n",
      "kia                 8457\n",
      "lexus               8200\n",
      "audi                7573\n",
      "cadillac            6953\n",
      "chrysler            6031\n",
      "acura               5978\n",
      "buick               5501\n",
      "mazda               5427\n",
      "infiniti            4802\n",
      "lincoln             4220\n",
      "volvo               3374\n",
      "mitsubishi          3292\n",
      "mini                2376\n",
      "pontiac             2288\n",
      "rover               2113\n",
      "jaguar              1946\n",
      "porsche             1384\n",
      "mercury             1184\n",
      "saturn              1090\n",
      "alfa-romeo           897\n",
      "tesla                868\n",
      "fiat                 792\n",
      "harley-davidson      153\n",
      "ferrari               95\n",
      "datsun                63\n",
      "aston-martin          24\n",
      "land rover            21\n",
      "morgan                 3\n",
      "Name: count, dtype: int64\n",
      "[nan 'gmc' 'chevrolet' 'toyota' 'ford']\n",
      "\n",
      "Analyzing inconsistencies in 'model':\n",
      "model\n",
      "f-150                      8009\n",
      "NaN                        5277\n",
      "silverado 1500             5140\n",
      "1500                       4211\n",
      "camry                      3135\n",
      "                           ... \n",
      "plymouth fury 1               1\n",
      "f550 box truck delivery       1\n",
      "duramax 2500hd                1\n",
      "3 s sport                     1\n",
      "Paige Glenbrook Touring       1\n",
      "Name: count, Length: 29650, dtype: int64\n",
      "[nan 'sierra 1500 crew cab slt' 'silverado 1500' 'silverado 1500 crew'\n",
      " 'tundra double cab sr']\n",
      "\n",
      "Analyzing inconsistencies in 'condition':\n",
      "condition\n",
      "NaN          174104\n",
      "good         121456\n",
      "excellent    101467\n",
      "like new      21178\n",
      "fair           6769\n",
      "new            1305\n",
      "salvage         601\n",
      "Name: count, dtype: int64\n",
      "[nan 'good' 'excellent' 'fair' 'like new']\n",
      "\n",
      "Analyzing inconsistencies in 'cylinders':\n",
      "cylinders\n",
      "NaN             177678\n",
      "6 cylinders      94169\n",
      "4 cylinders      77642\n",
      "8 cylinders      72062\n",
      "5 cylinders       1712\n",
      "10 cylinders      1455\n",
      "other             1298\n",
      "3 cylinders        655\n",
      "12 cylinders       209\n",
      "Name: count, dtype: int64\n",
      "[nan '8 cylinders' '6 cylinders' '4 cylinders' '5 cylinders']\n",
      "\n",
      "Analyzing inconsistencies in 'fuel':\n",
      "fuel\n",
      "gas         356209\n",
      "other        30728\n",
      "diesel       30062\n",
      "hybrid        5170\n",
      "NaN           3013\n",
      "electric      1698\n",
      "Name: count, dtype: int64\n",
      "[nan 'gas' 'other' 'diesel' 'hybrid']\n",
      "\n",
      "Analyzing inconsistencies in 'title_status':\n",
      "title_status\n",
      "clean         405117\n",
      "NaN             8242\n",
      "rebuilt         7219\n",
      "salvage         3868\n",
      "lien            1422\n",
      "missing          814\n",
      "parts only       198\n",
      "Name: count, dtype: int64\n",
      "[nan 'clean' 'rebuilt' 'lien' 'salvage']\n",
      "\n",
      "Analyzing inconsistencies in 'transmission':\n",
      "transmission\n",
      "automatic    336524\n",
      "other         62682\n",
      "manual        25118\n",
      "NaN            2556\n",
      "Name: count, dtype: int64\n",
      "[nan 'other' 'automatic' 'manual']\n",
      "\n",
      "Analyzing inconsistencies in 'VIN':\n",
      "VIN\n",
      "NaN                  161042\n",
      "1FMJU1JT1HEA52352       261\n",
      "3C6JR6DT3KG560649       235\n",
      "1FTER1EH1LLA36301       231\n",
      "5TFTX4CN3EX042751       227\n",
      "                      ...  \n",
      "1GCEK19J78Z219711         1\n",
      "JA4AT3AW1AZ006543         1\n",
      "4T1BF28B61U153724         1\n",
      "JTHCF5C25A5041393         1\n",
      "SAJGX2749VCOO8376         1\n",
      "Name: count, Length: 118247, dtype: int64\n",
      "[nan '3GTP1VEC4EG551563' '1GCSCSE06AZ123805' '3GCPWCED5LG130317'\n",
      " '5TFRM5F17HX120972']\n",
      "\n",
      "Analyzing inconsistencies in 'drive':\n",
      "drive\n",
      "4wd    131904\n",
      "NaN    130567\n",
      "fwd    105517\n",
      "rwd     58892\n",
      "Name: count, dtype: int64\n",
      "[nan 'rwd' '4wd' 'fwd']\n",
      "\n",
      "Analyzing inconsistencies in 'size':\n",
      "size\n",
      "NaN            306361\n",
      "full-size       63465\n",
      "mid-size        34476\n",
      "compact         19384\n",
      "sub-compact      3194\n",
      "Name: count, dtype: int64\n",
      "[nan 'full-size' 'mid-size' 'compact' 'sub-compact']\n",
      "\n",
      "Analyzing inconsistencies in 'type':\n",
      "type\n",
      "NaN            92858\n",
      "sedan          87056\n",
      "SUV            77284\n",
      "pickup         43510\n",
      "truck          35279\n",
      "other          22110\n",
      "coupe          19204\n",
      "hatchback      16598\n",
      "wagon          10751\n",
      "van             8548\n",
      "convertible     7731\n",
      "mini-van        4825\n",
      "offroad          609\n",
      "bus              517\n",
      "Name: count, dtype: int64\n",
      "[nan 'pickup' 'truck' 'other' 'coupe']\n",
      "\n",
      "Analyzing inconsistencies in 'paint_color':\n",
      "paint_color\n",
      "NaN       130203\n",
      "white      79285\n",
      "black      62861\n",
      "silver     42970\n",
      "blue       31223\n",
      "red        30473\n",
      "grey       24416\n",
      "green       7343\n",
      "custom      6700\n",
      "brown       6593\n",
      "yellow      2142\n",
      "orange      1984\n",
      "purple       687\n",
      "Name: count, dtype: int64\n",
      "[nan 'white' 'blue' 'red' 'black']\n",
      "\n",
      "Analyzing inconsistencies in 'state':\n",
      "state\n",
      "ca    50614\n",
      "fl    28511\n",
      "tx    22945\n",
      "ny    19386\n",
      "oh    17696\n",
      "or    17104\n",
      "mi    16900\n",
      "nc    15277\n",
      "wa    13861\n",
      "pa    13753\n",
      "wi    11398\n",
      "co    11088\n",
      "tn    11066\n",
      "va    10732\n",
      "il    10387\n",
      "nj     9742\n",
      "id     8961\n",
      "az     8679\n",
      "ia     8632\n",
      "ma     8174\n",
      "mn     7716\n",
      "ga     7003\n",
      "ok     6792\n",
      "sc     6327\n",
      "mt     6294\n",
      "ks     6209\n",
      "in     5704\n",
      "ct     5188\n",
      "al     4955\n",
      "md     4778\n",
      "nm     4425\n",
      "mo     4293\n",
      "ky     4149\n",
      "ar     4038\n",
      "ak     3474\n",
      "la     3196\n",
      "nv     3194\n",
      "nh     2981\n",
      "dc     2970\n",
      "me     2966\n",
      "hi     2964\n",
      "vt     2513\n",
      "ri     2320\n",
      "sd     1302\n",
      "ut     1150\n",
      "wv     1052\n",
      "ne     1036\n",
      "ms     1016\n",
      "de      949\n",
      "wy      610\n",
      "nd      410\n",
      "Name: count, dtype: int64\n",
      "['az' 'ar' 'fl' 'ma' 'nc']\n"
     ]
    }
   ],
   "source": [
    "#Identify typos or inconsistencies in categories.\n",
    "categorical_cols = df.select_dtypes(include=['object']).columns\n",
    "\n",
    "for col in categorical_cols:\n",
    "    print(f\"\\nAnalyzing inconsistencies in '{col}':\")\n",
    "    print(df[col].value_counts(dropna=False))\n",
    "    print(df[col].unique()[:5])"
   ]
  },
  {
   "cell_type": "code",
   "execution_count": null,
   "metadata": {
    "colab": {
     "base_uri": "https://localhost:8080/",
     "height": 776
    },
    "id": "rKkoVpEiT1F7",
    "outputId": "0a82cf5a-3098-4078-e4ab-173f46fe628c"
   },
   "outputs": [
    {
     "name": "stdout",
     "output_type": "stream",
     "text": [
      "\n",
      "Correlation Matrix:\n",
      "             price      year  odometer\n",
      "price     1.000000  0.323616 -0.519599\n",
      "year      0.323616  1.000000 -0.407711\n",
      "odometer -0.519599 -0.407711  1.000000\n"
     ]
    },
    {
     "data": {
      "image/png": "[encoded data removed]",
      "text/plain": [
       "<Figure size 1000x800 with 2 Axes>"
      ]
     },
     "metadata": {},
     "output_type": "display_data"
    }
   ],
   "source": [
    "import matplotlib.pyplot as plt\n",
    "# Analyze relationships between numerical variables using correlation\n",
    "correlation_matrix = df[numerical_cols].corr()\n",
    "print(\"\\nCorrelation Matrix:\")\n",
    "print(correlation_matrix)\n",
    "\n",
    "plt.figure(figsize=(10, 8))\n",
    "sns.heatmap(correlation_matrix, annot=True, cmap='coolwarm', fmt=\".2f\")\n",
    "plt.title('Correlation Matrix')\n",
    "plt.show()"
   ]
  },
  {
   "cell_type": "markdown",
   "metadata": {
    "id": "afr2scGGGm3A"
   },
   "source": [
    "### Data Preparation\n",
    "\n",
    "After our initial exploration and fine-tuning of the business understanding, it is time to construct our final dataset prior to modeling.  Here, we want to make sure to handle any integrity issues and cleaning, the engineering of new features, any transformations that we believe should happen (scaling, logarithms, normalization, etc.), and general preparation for modeling with `sklearn`."
   ]
  },
  {
   "cell_type": "code",
   "execution_count": 7,
   "metadata": {
    "colab": {
     "base_uri": "https://localhost:8080/"
    },
    "id": "ieCeBW5GGm3B",
    "outputId": "402f5588-7d04-456e-ea1e-e1a40c491867"
   },
   "outputs": [
    {
     "name": "stderr",
     "output_type": "stream",
     "text": [
      "<ipython-input-7-2801cb326ef5>:4: FutureWarning: A value is trying to be set on a copy of a DataFrame or Series through chained assignment using an inplace method.\n",
      "The behavior will change in pandas 3.0. This inplace method will never work because the intermediate object on which we are setting values always behaves as a copy.\n",
      "\n",
      "For example, when doing 'df[col].method(value, inplace=True)', try using 'df.method({col: value}, inplace=True)' or df[col] = df[col].method(value) instead, to perform the operation inplace on the original object.\n",
      "\n",
      "\n",
      "  df[col].fillna(df[col].median(), inplace=True)\n"
     ]
    }
   ],
   "source": [
    "# Fill missing numerical values with the median\n",
    "for col in ['year', 'odometer']:\n",
    "    if df[col].isnull().any():\n",
    "        df[col].fillna(df[col].median(), inplace=True)\n"
   ]
  },
  {
   "cell_type": "code",
   "execution_count": 8,
   "metadata": {
    "colab": {
     "base_uri": "https://localhost:8080/"
    },
    "id": "w795H5xZGm3B",
    "outputId": "d2ae7858-f1f4-4231-c0b4-d0c9557a74de"
   },
   "outputs": [
    {
     "name": "stderr",
     "output_type": "stream",
     "text": [
      "<ipython-input-8-f54c511d6ac1>:4: FutureWarning: A value is trying to be set on a copy of a DataFrame or Series through chained assignment using an inplace method.\n",
      "The behavior will change in pandas 3.0. This inplace method will never work because the intermediate object on which we are setting values always behaves as a copy.\n",
      "\n",
      "For example, when doing 'df[col].method(value, inplace=True)', try using 'df.method({col: value}, inplace=True)' or df[col] = df[col].method(value) instead, to perform the operation inplace on the original object.\n",
      "\n",
      "\n",
      "  df[col].fillna(df[col].mode()[0], inplace=True)\n"
     ]
    }
   ],
   "source": [
    "\n",
    "# Fill missing categorical values with the mode\n",
    "for col in ['manufacturer', 'condition', 'fuel', 'title_status', 'transmission', 'drive', 'type', 'paint_color', 'model']:\n",
    "    if df[col].isnull().any():\n",
    "        df[col].fillna(df[col].mode()[0], inplace=True)\n"
   ]
  },
  {
   "cell_type": "code",
   "execution_count": 9,
   "metadata": {
    "id": "ijBhH35TGm3B"
   },
   "outputs": [],
   "source": [
    "# Define a function to cap extreme values\n",
    "def cap_outliers(series, lower_percentile=1, upper_percentile=99):\n",
    "    lower_bound = series.quantile(lower_percentile / 100)\n",
    "    upper_bound = series.quantile(upper_percentile / 100)\n",
    "    capped_series = series.clip(lower=lower_bound, upper=upper_bound)\n",
    "    return capped_series\n",
    "\n",
    "# Apply the function to the 'price' column\n",
    "df['price'] = cap_outliers(df['price'])\n",
    "\n",
    "# Apply the function to the 'odometer' column\n",
    "df['odometer'] = cap_outliers(df['odometer'])\n"
   ]
  },
  {
   "cell_type": "code",
   "execution_count": null,
   "metadata": {
    "id": "BNrGqS8uWVJt"
   },
   "outputs": [],
   "source": [
    "# Calculate age based on a different year\n",
    "current_year = 2025\n",
    "df['age'] = current_year - df['year']"
   ]
  },
  {
   "cell_type": "code",
   "execution_count": 11,
   "metadata": {
    "id": "5WffEf9tXQt0"
   },
   "outputs": [],
   "source": [
    "# Drop the unnecessary columns\n",
    "df.drop(['id', 'VIN', 'size', 'cylinders'], axis=1, inplace=True)"
   ]
  },
  {
   "cell_type": "code",
   "execution_count": 13,
   "metadata": {
    "colab": {
     "base_uri": "https://localhost:8080/"
    },
    "id": "V72NJ6fVYUwX",
    "outputId": "1322bf68-487f-4ff2-faad-8841f23d5098"
   },
   "outputs": [
    {
     "name": "stdout",
     "output_type": "stream",
     "text": [
      "<class 'pandas.core.frame.DataFrame'>\n",
      "RangeIndex: 426880 entries, 0 to 426879\n",
      "Columns: 489 entries, price to region_zanesville / cambridge\n",
      "dtypes: float64(485), int64(1), object(3)\n",
      "memory usage: 1.6+ GB\n",
      "None\n"
     ]
    }
   ],
   "source": [
    "from sklearn.preprocessing import OneHotEncoder\n",
    "\n",
    "# Select categorical columns to one-hot encode\n",
    "categorical_cols_to_encode = ['manufacturer', 'condition', 'fuel', 'title_status', 'transmission', 'drive', 'type', 'region']\n",
    "\n",
    "# Create a OneHotEncoder object\n",
    "encoder = OneHotEncoder(handle_unknown='ignore', sparse_output=False)\n",
    "\n",
    "# Fit the encoder to your categorical features\n",
    "encoded_features = encoder.fit_transform(df[categorical_cols_to_encode])\n",
    "\n",
    "# Create a DataFrame with the encoded features\n",
    "encoded_df = pd.DataFrame(encoded_features, columns=encoder.get_feature_names_out(categorical_cols_to_encode))\n",
    "\n",
    "# Concatenate the encoded features with your original DataFrame\n",
    "df = pd.concat([df, encoded_df], axis=1)\n",
    "\n",
    "# Drop the original categorical columns\n",
    "df = df.drop(categorical_cols_to_encode, axis=1)\n",
    "\n",
    "print(df.info())\n"
   ]
  },
  {
   "cell_type": "code",
   "execution_count": null,
   "metadata": {
    "colab": {
     "base_uri": "https://localhost:8080/"
    },
    "id": "jsDBxQ5NfDV4",
    "outputId": "941bb2a0-5123-409e-c9ef-a7bda47ca28f"
   },
   "outputs": [
    {
     "name": "stdout",
     "output_type": "stream",
     "text": [
      "Number of rows after reduction: 500\n"
     ]
    }
   ],
   "source": [
    "# Reduce the number of rows\n",
    "df = df.head(500)\n",
    "num_rows = len(df)\n",
    "print(f\"Number of rows after reduction: {num_rows}\")\n"
   ]
  },
  {
   "cell_type": "code",
   "execution_count": null,
   "metadata": {
    "id": "tLFNXtpmYmnS"
   },
   "outputs": [],
   "source": [
    "# Scale numerical features to have a similar range.\n",
    "from sklearn.preprocessing import MinMaxScaler\n",
    "scaler = MinMaxScaler()\n",
    "numerical_cols_to_scale = ['odometer','age', 'price']\n",
    "df[numerical_cols_to_scale] = scaler.fit_transform(df[numerical_cols_to_scale])\n"
   ]
  },
  {
   "cell_type": "code",
   "execution_count": 21,
   "metadata": {
    "colab": {
     "base_uri": "https://localhost:8080/"
    },
    "id": "2JVzH0HHfbRf",
    "outputId": "7d8e1bee-9011-4188-b6b5-ad9c4585bbef"
   },
   "outputs": [
    {
     "name": "stdout",
     "output_type": "stream",
     "text": [
      "<class 'pandas.core.frame.DataFrame'>\n",
      "RangeIndex: 500 entries, 0 to 499\n",
      "Columns: 486 entries, price to region_zanesville / cambridge\n",
      "dtypes: float64(486)\n",
      "memory usage: 1.9 MB\n",
      "None\n"
     ]
    }
   ],
   "source": [
    "# Drop all string columns from the DataFrame\n",
    "string_columns = df.select_dtypes(include=['object']).columns\n",
    "df = df.drop(columns=string_columns)\n",
    "\n",
    "print(df.info())\n"
   ]
  },
  {
   "cell_type": "code",
   "execution_count": 22,
   "metadata": {
    "id": "DnX_mI2SZbMq"
   },
   "outputs": [],
   "source": [
    "# Define features (X) and target (y)\n",
    "X = df.drop('price', axis=1)\n",
    "y = df['price']\n"
   ]
  },
  {
   "cell_type": "code",
   "execution_count": null,
   "metadata": {
    "id": "eKjtD4WeZxN5"
   },
   "outputs": [],
   "source": [
    "from sklearn.model_selection import train_test_split\n",
    "# Split the data into training and testing sets\n",
    "X_train, X_test, y_train, y_test = train_test_split(X, y, test_size=0.25, random_state=42)"
   ]
  },
  {
   "cell_type": "markdown",
   "metadata": {
    "id": "NDCkqcHgGm3B"
   },
   "source": [
    "### Modeling\n",
    "\n",
    "With your (almost?) final dataset in hand, it is now time to build some models.  Here, you should build a number of different regression models with the price as the target.  In building your models, you should explore different parameters and be sure to cross-validate your findings."
   ]
  },
  {
   "cell_type": "code",
   "execution_count": 59,
   "metadata": {
    "colab": {
     "base_uri": "https://localhost:8080/"
    },
    "id": "z6t5afVuGm3B",
    "outputId": "d7270815-fa0f-4fb9-e446-89dcface0bfc"
   },
   "outputs": [
    {
     "name": "stdout",
     "output_type": "stream",
     "text": [
      "Linear Regression:\n",
      "  MSE: 0.03316275320462538\n",
      "  R2: 0.1870125767485853\n",
      "\n",
      "Decision Tree Regression:\n",
      "  MSE: 0.030617895220822134\n",
      "  R2: 0.24939996425006772\n",
      "\n",
      "Random Forest Regression:\n",
      "  MSE: 0.024644395959286306\n",
      "  R2: 0.3958407540863259\n",
      "\n"
     ]
    }
   ],
   "source": [
    "from sklearn.linear_model import LinearRegression\n",
    "from sklearn.tree import DecisionTreeRegressor\n",
    "from sklearn.ensemble import RandomForestRegressor\n",
    "from sklearn.metrics import mean_squared_error, r2_score\n",
    "\n",
    "# Initialize and train different regression models\n",
    "models = {\n",
    "    \"Linear Regression\": LinearRegression(),\n",
    "    \"Decision Tree Regression\": DecisionTreeRegressor(random_state=42),\n",
    "    \"Random Forest Regression\": RandomForestRegressor(random_state=42)\n",
    "}\n",
    "\n",
    "results = {}\n",
    "\n",
    "for model_name, model in models.items():\n",
    "    model.fit(X_train, y_train)\n",
    "    y_pred = model.predict(X_test)\n",
    "\n",
    "    mse = mean_squared_error(y_test, y_pred)\n",
    "    r2 = r2_score(y_test, y_pred)\n",
    "\n",
    "    results[model_name] = {\"MSE\": mse, \"R2\": r2}\n",
    "    print(f\"{model_name}:\")\n",
    "    print(f\"  MSE: {mse}\")\n",
    "    print(f\"  R2: {r2}\\n\")"
   ]
  },
  {
   "cell_type": "markdown",
   "metadata": {
    "id": "e__cTe7PGm3B"
   },
   "source": [
    "### Evaluation\n",
    "\n",
    "With some modeling accomplished, we aim to reflect on what we identify as a high-quality model and what we are able to learn from this.  We should review our business objective and explore how well we can provide meaningful insight into drivers of used car prices.  Your goal now is to distill your findings and determine whether the earlier phases need revisitation and adjustment or if you have information of value to bring back to your client."
   ]
  },
  {
   "cell_type": "code",
   "execution_count": 61,
   "metadata": {
    "colab": {
     "base_uri": "https://localhost:8080/"
    },
    "id": "21GaJfR8tRwR",
    "outputId": "8a87eac3-ce73-481b-c121-6d1187d75cad"
   },
   "outputs": [
    {
     "name": "stdout",
     "output_type": "stream",
     "text": [
      "MSE: 0.018753392001610466\n",
      "R2: 0.5402591652587365\n"
     ]
    }
   ],
   "source": [
    "from sklearn.model_selection import GridSearchCV\n",
    "\n",
    "# Define the parameter grid for RandomForestRegressor\n",
    "param_grid = {\n",
    "    'n_estimators': [50, 100, 200],\n",
    "    'max_depth': [None, 10, 20],\n",
    "    'min_samples_split': [2, 5, 10]\n",
    "}\n",
    "\n",
    "# Initialize the RandomForestRegressor\n",
    "random_forest_model = RandomForestRegressor(random_state=42)\n",
    "\n",
    "# Create the GridSearchCV object\n",
    "grid_search = GridSearchCV(estimator=random_forest_model, param_grid=param_grid, cv=4, scoring='neg_mean_squared_error')\n",
    "\n",
    "# Fit the GridSearchCV object to the training data\n",
    "grid_search.fit(X_train, y_train)\n",
    "\n",
    "# Use the best model to predict on the test data\n",
    "y_pred = best_rf_model.predict(X_test)\n",
    "\n",
    "# Evaluate the best model\n",
    "mse = mean_squared_error(y_test, y_pred)\n",
    "r2 = r2_score(y_test, y_pred)\n",
    "\n",
    "print(f\"MSE: {mse}\")\n",
    "print(f\"R2: {r2}\")\n"
   ]
  },
  {
   "cell_type": "code",
   "execution_count": 52,
   "metadata": {
    "colab": {
     "base_uri": "https://localhost:8080/"
    },
    "id": "LlrZtJFbGm3B",
    "outputId": "e14b983f-3b8b-44ca-da44-5462e734ef52"
   },
   "outputs": [
    {
     "name": "stdout",
     "output_type": "stream",
     "text": [
      "\n",
      "Linear Regression Coefficients:\n",
      "                          Feature  Coefficient\n",
      "14           manufacturer_ferrari     0.639624\n",
      "401  region_skagit / island / SJI     0.196646\n",
      "97                  region_auburn     0.153444\n",
      "105             region_bellingham     0.139799\n",
      "110             region_birmingham     0.133338\n",
      "..                            ...          ...\n",
      "256              region_la crosse    -0.145536\n",
      "177                region_el paso    -0.152999\n",
      "69                       type_bus    -0.192960\n",
      "79                       type_van    -0.259643\n",
      "1                        odometer    -0.307009\n",
      "\n",
      "[485 rows x 2 columns]\n",
      "Intercept: -8.693736915718528\n",
      "\n",
      "Coefficient Interpretation (Linear Regression):  A higher coefficient indicates a stronger influence on the target variable.\n"
     ]
    }
   ],
   "source": [
    "import pandas as pd\n",
    "\n",
    "# Access coefficients for Linear Regression\n",
    "if \"Linear Regression\" in models:\n",
    "    coefficients = models[\"Linear Regression\"].coef_\n",
    "    intercept = models[\"Linear Regression\"].intercept_\n",
    "\n",
    "    feature_coefficients = pd.DataFrame({'Feature': X.columns, 'Coefficient': coefficients})\n",
    "    feature_coefficients = feature_coefficients.sort_values(by='Coefficient', ascending=False)\n",
    "    print(\"\\nLinear Regression Coefficients:\")\n",
    "    print(feature_coefficients)\n",
    "    print(f\"Intercept: {intercept}\")\n",
    "\n",
    "    # Interpretation of coefficients\n",
    "    print(\"\\nCoefficient Interpretation (Linear Regression):  A higher coefficient indicates a stronger influence on the target variable.\")"
   ]
  },
  {
   "cell_type": "markdown",
   "metadata": {
    "id": "XAeJ1myXGm3B"
   },
   "source": [
    "### Deployment\n",
    "\n",
    "Now that we've settled on our models and findings, it is time to deliver the information to the client.  You should organize your work as a basic report that details your primary findings.  Keep in mind that your audience is a group of used car dealers interested in fine-tuning their inventory."
   ]
  },
  {
   "cell_type": "markdown",
   "metadata": {
    "id": "ScyTK36gUOkf"
   },
   "source": []
  }
 ],
 "metadata": {
  "colab": {
   "provenance": []
  },
  "kernelspec": {
   "display_name": "Python 3",
   "language": "python",
   "name": "python3"
  },
  "language_info": {
   "codemirror_mode": {
    "name": "ipython",
    "version": 3
   },
   "file_extension": ".py",
   "mimetype": "text/x-python",
   "name": "python",
   "nbconvert_exporter": "python",
   "pygments_lexer": "ipython3",
   "version": "3.13.0"
  }
 },
 "nbformat": 4,
 "nbformat_minor": 0
}
